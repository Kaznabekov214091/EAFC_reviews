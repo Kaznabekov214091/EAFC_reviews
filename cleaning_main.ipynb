{
 "cells": [
  {
   "cell_type": "code",
   "execution_count": null,
   "id": "d86aaaa2",
   "metadata": {},
   "outputs": [],
   "source": []
  },
  {
   "cell_type": "markdown",
   "id": "98ae55be",
   "metadata": {},
   "source": [
    "<img src=\"eafc.jpg\" alt=\"Alt text\" style=\"width: 100%;\"/>\n"
   ]
  },
  {
   "cell_type": "markdown",
   "id": "78f34400",
   "metadata": {},
   "source": [
    "## Tasks\n",
    "* Merge datasets\n",
    "* Remove date from content\n",
    "* Extract numbers from `hours`,`found_helpfull`,`product_count`\n",
    "* Change data types"
   ]
  },
  {
   "cell_type": "code",
   "execution_count": 22,
   "id": "f3b27ad5",
   "metadata": {},
   "outputs": [],
   "source": [
    "import pandas as pd \n",
    "import numpy as np\n",
    "import nltk\n",
    "import time\n",
    "from datetime import datetime\n",
    "import re"
   ]
  },
  {
   "cell_type": "code",
   "execution_count": 23,
   "id": "6ea64100",
   "metadata": {},
   "outputs": [],
   "source": [
    "reviews=pd.read_csv('review.csv')\n",
    "users=pd.read_csv('user.csv')"
   ]
  },
  {
   "cell_type": "code",
   "execution_count": 24,
   "id": "41a9da84",
   "metadata": {},
   "outputs": [
    {
     "data": {
      "text/html": [
       "<div>\n",
       "<style scoped>\n",
       "    .dataframe tbody tr th:only-of-type {\n",
       "        vertical-align: middle;\n",
       "    }\n",
       "\n",
       "    .dataframe tbody tr th {\n",
       "        vertical-align: top;\n",
       "    }\n",
       "\n",
       "    .dataframe thead th {\n",
       "        text-align: right;\n",
       "    }\n",
       "</style>\n",
       "<table border=\"1\" class=\"dataframe\">\n",
       "  <thead>\n",
       "    <tr style=\"text-align: right;\">\n",
       "      <th></th>\n",
       "      <th>Unnamed: 0</th>\n",
       "      <th>content</th>\n",
       "      <th>date</th>\n",
       "      <th>recommend</th>\n",
       "      <th>hours</th>\n",
       "      <th>found_helpful</th>\n",
       "    </tr>\n",
       "  </thead>\n",
       "  <tbody>\n",
       "    <tr>\n",
       "      <th>0</th>\n",
       "      <td>0</td>\n",
       "      <td>Posted: 28 September\\nYear after year, EA, des...</td>\n",
       "      <td>Posted: 28 September</td>\n",
       "      <td>Not Recommended</td>\n",
       "      <td>76.6 hrs on record</td>\n",
       "      <td>1,740 people found this review helpful\\n79 peo...</td>\n",
       "    </tr>\n",
       "    <tr>\n",
       "      <th>1</th>\n",
       "      <td>1</td>\n",
       "      <td>Posted: 28 September\\nby purchasing this game ...</td>\n",
       "      <td>Posted: 28 September</td>\n",
       "      <td>Not Recommended</td>\n",
       "      <td>253.7 hrs on record</td>\n",
       "      <td>523 people found this review helpful\\n115 peop...</td>\n",
       "    </tr>\n",
       "    <tr>\n",
       "      <th>2</th>\n",
       "      <td>2</td>\n",
       "      <td>Posted: 4 October\\ndid i ever tell you what th...</td>\n",
       "      <td>Posted: 4 October</td>\n",
       "      <td>Not Recommended</td>\n",
       "      <td>1.8 hrs on record</td>\n",
       "      <td>534 people found this review helpful\\n81 peopl...</td>\n",
       "    </tr>\n",
       "    <tr>\n",
       "      <th>3</th>\n",
       "      <td>3</td>\n",
       "      <td>Posted: 2 October\\nGood game like always, espe...</td>\n",
       "      <td>Posted: 2 October</td>\n",
       "      <td>Not Recommended</td>\n",
       "      <td>76.4 hrs on record</td>\n",
       "      <td>538 people found this review helpful\\n116 peop...</td>\n",
       "    </tr>\n",
       "    <tr>\n",
       "      <th>4</th>\n",
       "      <td>4</td>\n",
       "      <td>Posted: 29 September\\nPurchased Ultimate Editi...</td>\n",
       "      <td>Posted: 29 September</td>\n",
       "      <td>Not Recommended</td>\n",
       "      <td>59.6 hrs on record</td>\n",
       "      <td>379 people found this review helpful\\n63 peopl...</td>\n",
       "    </tr>\n",
       "  </tbody>\n",
       "</table>\n",
       "</div>"
      ],
      "text/plain": [
       "   Unnamed: 0                                            content  \\\n",
       "0           0  Posted: 28 September\\nYear after year, EA, des...   \n",
       "1           1  Posted: 28 September\\nby purchasing this game ...   \n",
       "2           2  Posted: 4 October\\ndid i ever tell you what th...   \n",
       "3           3  Posted: 2 October\\nGood game like always, espe...   \n",
       "4           4  Posted: 29 September\\nPurchased Ultimate Editi...   \n",
       "\n",
       "                   date        recommend                hours  \\\n",
       "0  Posted: 28 September  Not Recommended   76.6 hrs on record   \n",
       "1  Posted: 28 September  Not Recommended  253.7 hrs on record   \n",
       "2     Posted: 4 October  Not Recommended    1.8 hrs on record   \n",
       "3     Posted: 2 October  Not Recommended   76.4 hrs on record   \n",
       "4  Posted: 29 September  Not Recommended   59.6 hrs on record   \n",
       "\n",
       "                                       found_helpful  \n",
       "0  1,740 people found this review helpful\\n79 peo...  \n",
       "1  523 people found this review helpful\\n115 peop...  \n",
       "2  534 people found this review helpful\\n81 peopl...  \n",
       "3  538 people found this review helpful\\n116 peop...  \n",
       "4  379 people found this review helpful\\n63 peopl...  "
      ]
     },
     "execution_count": 24,
     "metadata": {},
     "output_type": "execute_result"
    }
   ],
   "source": [
    "reviews.head()"
   ]
  },
  {
   "cell_type": "code",
   "execution_count": 25,
   "id": "1a2dcf81",
   "metadata": {},
   "outputs": [
    {
     "data": {
      "text/html": [
       "<div>\n",
       "<style scoped>\n",
       "    .dataframe tbody tr th:only-of-type {\n",
       "        vertical-align: middle;\n",
       "    }\n",
       "\n",
       "    .dataframe tbody tr th {\n",
       "        vertical-align: top;\n",
       "    }\n",
       "\n",
       "    .dataframe thead th {\n",
       "        text-align: right;\n",
       "    }\n",
       "</style>\n",
       "<table border=\"1\" class=\"dataframe\">\n",
       "  <thead>\n",
       "    <tr style=\"text-align: right;\">\n",
       "      <th></th>\n",
       "      <th>Unnamed: 0</th>\n",
       "      <th>product_count</th>\n",
       "    </tr>\n",
       "  </thead>\n",
       "  <tbody>\n",
       "    <tr>\n",
       "      <th>0</th>\n",
       "      <td>0</td>\n",
       "      <td>h8koN\\n268 products in account</td>\n",
       "    </tr>\n",
       "    <tr>\n",
       "      <th>1</th>\n",
       "      <td>1</td>\n",
       "      <td>L\\n484 products in account</td>\n",
       "    </tr>\n",
       "    <tr>\n",
       "      <th>2</th>\n",
       "      <td>2</td>\n",
       "      <td>Federico\\n56 products in account</td>\n",
       "    </tr>\n",
       "    <tr>\n",
       "      <th>3</th>\n",
       "      <td>3</td>\n",
       "      <td>Artic\\n67 products in account</td>\n",
       "    </tr>\n",
       "    <tr>\n",
       "      <th>4</th>\n",
       "      <td>4</td>\n",
       "      <td>Mikaow\\n91 products in account</td>\n",
       "    </tr>\n",
       "  </tbody>\n",
       "</table>\n",
       "</div>"
      ],
      "text/plain": [
       "   Unnamed: 0                     product_count\n",
       "0           0    h8koN\\n268 products in account\n",
       "1           1        L\\n484 products in account\n",
       "2           2  Federico\\n56 products in account\n",
       "3           3     Artic\\n67 products in account\n",
       "4           4    Mikaow\\n91 products in account"
      ]
     },
     "execution_count": 25,
     "metadata": {},
     "output_type": "execute_result"
    }
   ],
   "source": [
    "users.head()"
   ]
  },
  {
   "cell_type": "markdown",
   "id": "678e995b",
   "metadata": {},
   "source": [
    "### Merging datasets"
   ]
  },
  {
   "cell_type": "code",
   "execution_count": 26,
   "id": "6c6f3a54",
   "metadata": {},
   "outputs": [],
   "source": [
    "reviews.rename(columns={'Unnamed: 0':'id'},inplace=True)\n",
    "users.rename(columns={'Unnamed: 0':'id'},inplace=True)\n"
   ]
  },
  {
   "cell_type": "code",
   "execution_count": 27,
   "id": "4b65de34",
   "metadata": {},
   "outputs": [],
   "source": [
    "data=reviews.merge(users,on='id',how='left')"
   ]
  },
  {
   "cell_type": "code",
   "execution_count": 28,
   "id": "723b78b0",
   "metadata": {},
   "outputs": [
    {
     "data": {
      "text/html": [
       "<div>\n",
       "<style scoped>\n",
       "    .dataframe tbody tr th:only-of-type {\n",
       "        vertical-align: middle;\n",
       "    }\n",
       "\n",
       "    .dataframe tbody tr th {\n",
       "        vertical-align: top;\n",
       "    }\n",
       "\n",
       "    .dataframe thead th {\n",
       "        text-align: right;\n",
       "    }\n",
       "</style>\n",
       "<table border=\"1\" class=\"dataframe\">\n",
       "  <thead>\n",
       "    <tr style=\"text-align: right;\">\n",
       "      <th></th>\n",
       "      <th>id</th>\n",
       "      <th>content</th>\n",
       "      <th>date</th>\n",
       "      <th>recommend</th>\n",
       "      <th>hours</th>\n",
       "      <th>found_helpful</th>\n",
       "      <th>product_count</th>\n",
       "    </tr>\n",
       "  </thead>\n",
       "  <tbody>\n",
       "    <tr>\n",
       "      <th>0</th>\n",
       "      <td>0</td>\n",
       "      <td>Posted: 28 September\\nYear after year, EA, des...</td>\n",
       "      <td>Posted: 28 September</td>\n",
       "      <td>Not Recommended</td>\n",
       "      <td>76.6 hrs on record</td>\n",
       "      <td>1,740 people found this review helpful\\n79 peo...</td>\n",
       "      <td>h8koN\\n268 products in account</td>\n",
       "    </tr>\n",
       "    <tr>\n",
       "      <th>1</th>\n",
       "      <td>1</td>\n",
       "      <td>Posted: 28 September\\nby purchasing this game ...</td>\n",
       "      <td>Posted: 28 September</td>\n",
       "      <td>Not Recommended</td>\n",
       "      <td>253.7 hrs on record</td>\n",
       "      <td>523 people found this review helpful\\n115 peop...</td>\n",
       "      <td>L\\n484 products in account</td>\n",
       "    </tr>\n",
       "    <tr>\n",
       "      <th>2</th>\n",
       "      <td>2</td>\n",
       "      <td>Posted: 4 October\\ndid i ever tell you what th...</td>\n",
       "      <td>Posted: 4 October</td>\n",
       "      <td>Not Recommended</td>\n",
       "      <td>1.8 hrs on record</td>\n",
       "      <td>534 people found this review helpful\\n81 peopl...</td>\n",
       "      <td>Federico\\n56 products in account</td>\n",
       "    </tr>\n",
       "    <tr>\n",
       "      <th>3</th>\n",
       "      <td>3</td>\n",
       "      <td>Posted: 2 October\\nGood game like always, espe...</td>\n",
       "      <td>Posted: 2 October</td>\n",
       "      <td>Not Recommended</td>\n",
       "      <td>76.4 hrs on record</td>\n",
       "      <td>538 people found this review helpful\\n116 peop...</td>\n",
       "      <td>Artic\\n67 products in account</td>\n",
       "    </tr>\n",
       "    <tr>\n",
       "      <th>4</th>\n",
       "      <td>4</td>\n",
       "      <td>Posted: 29 September\\nPurchased Ultimate Editi...</td>\n",
       "      <td>Posted: 29 September</td>\n",
       "      <td>Not Recommended</td>\n",
       "      <td>59.6 hrs on record</td>\n",
       "      <td>379 people found this review helpful\\n63 peopl...</td>\n",
       "      <td>Mikaow\\n91 products in account</td>\n",
       "    </tr>\n",
       "  </tbody>\n",
       "</table>\n",
       "</div>"
      ],
      "text/plain": [
       "   id                                            content  \\\n",
       "0   0  Posted: 28 September\\nYear after year, EA, des...   \n",
       "1   1  Posted: 28 September\\nby purchasing this game ...   \n",
       "2   2  Posted: 4 October\\ndid i ever tell you what th...   \n",
       "3   3  Posted: 2 October\\nGood game like always, espe...   \n",
       "4   4  Posted: 29 September\\nPurchased Ultimate Editi...   \n",
       "\n",
       "                   date        recommend                hours  \\\n",
       "0  Posted: 28 September  Not Recommended   76.6 hrs on record   \n",
       "1  Posted: 28 September  Not Recommended  253.7 hrs on record   \n",
       "2     Posted: 4 October  Not Recommended    1.8 hrs on record   \n",
       "3     Posted: 2 October  Not Recommended   76.4 hrs on record   \n",
       "4  Posted: 29 September  Not Recommended   59.6 hrs on record   \n",
       "\n",
       "                                       found_helpful  \\\n",
       "0  1,740 people found this review helpful\\n79 peo...   \n",
       "1  523 people found this review helpful\\n115 peop...   \n",
       "2  534 people found this review helpful\\n81 peopl...   \n",
       "3  538 people found this review helpful\\n116 peop...   \n",
       "4  379 people found this review helpful\\n63 peopl...   \n",
       "\n",
       "                      product_count  \n",
       "0    h8koN\\n268 products in account  \n",
       "1        L\\n484 products in account  \n",
       "2  Federico\\n56 products in account  \n",
       "3     Artic\\n67 products in account  \n",
       "4    Mikaow\\n91 products in account  "
      ]
     },
     "execution_count": 28,
     "metadata": {},
     "output_type": "execute_result"
    }
   ],
   "source": [
    "data.head()"
   ]
  },
  {
   "cell_type": "markdown",
   "id": "2c4f3ff5",
   "metadata": {},
   "source": []
  },
  {
   "cell_type": "markdown",
   "id": "996b1033",
   "metadata": {},
   "source": [
    "### Cleaning dataset"
   ]
  },
  {
   "cell_type": "code",
   "execution_count": 29,
   "id": "fc9f618d",
   "metadata": {},
   "outputs": [],
   "source": [
    "\n",
    "def extract_date(date):\n",
    "    \"\"\"\n",
    "    The function splits day and month\n",
    "    \n",
    "    Parameters:\n",
    "    -date:(str) day and month\n",
    "    \n",
    "    Returns:\n",
    "    -date:(datetime)\n",
    "    \"\"\"\n",
    "    day,month=None,None\n",
    "    part1,part2=date.split()\n",
    "    if part1.isdigit():\n",
    "        day,month=part1,part2\n",
    "    else:\n",
    "        day,month=part2,part1\n",
    "    current_year=datetime.now().year\n",
    "    date_format=\"%d %B %Y\"\n",
    "    date_with_current_year=f\"{day} {month} {current_year}\"\n",
    "    date=datetime.strptime(date_with_current_year,date_format)\n",
    "    return date\n",
    "\n",
    "\n",
    "\n",
    "def join_words(words):\n",
    "    return \" \".join(words[2:]) if len(words) > 2 else \"\""
   ]
  },
  {
   "cell_type": "code",
   "execution_count": 30,
   "id": "83b76c47",
   "metadata": {},
   "outputs": [],
   "source": [
    "#Cleaning content column\n",
    "data['content']=data['content'].str.replace('\\n',\" \")\n",
    "data['content']=data['content'].str.replace('Posted: ',\" \")\n",
    "data['content'] = data['content'].str.split(' ').apply(join_words)\n",
    "\n",
    "#Date column\n",
    "data['date']=data['date'].str.replace('Posted: ',\"\").str.replace('\\n',\"\")\n",
    "data['date']=data['date'].apply(extract_date)\n",
    "\n",
    "#recommend column\n",
    "mapping_dict={'Not Recommended':0,\n",
    "             'Recommended':1}\n",
    "data['recommend']=data['recommend'].map(mapping_dict).astype('category')\n",
    "\n",
    "#hours column\n",
    "data['hours'] = pd.to_numeric(data['hours'].str.split().str[0], errors='coerce')\n",
    "\n",
    "# Drop rows with NaN values in the 'hours' column\n",
    "data = data.dropna(subset=['hours'])\n",
    "\n",
    "\n",
    "\n",
    "\n"
   ]
  },
  {
   "cell_type": "code",
   "execution_count": 39,
   "id": "ca83770f",
   "metadata": {},
   "outputs": [
    {
     "data": {
      "text/plain": [
       "['523 people found this review helpful',\n",
       " '115 people found this review funny 16']"
      ]
     },
     "execution_count": 39,
     "metadata": {},
     "output_type": "execute_result"
    }
   ],
   "source": [
    "data['found_helpful'].str.split('\\n')[1]"
   ]
  },
  {
   "cell_type": "code",
   "execution_count": 19,
   "id": "746e3a55",
   "metadata": {},
   "outputs": [
    {
     "data": {
      "text/plain": [
       "0        76.6\n",
       "1       253.7\n",
       "2         1.8\n",
       "3        76.4\n",
       "4        59.6\n",
       "        ...  \n",
       "6115     61.7\n",
       "6116     63.6\n",
       "6117    120.9\n",
       "6118    100.1\n",
       "6119     47.9\n",
       "Name: hours, Length: 6120, dtype: float64"
      ]
     },
     "execution_count": 19,
     "metadata": {},
     "output_type": "execute_result"
    }
   ],
   "source": [
    "data.hours"
   ]
  },
  {
   "cell_type": "code",
   "execution_count": null,
   "id": "32b28988",
   "metadata": {},
   "outputs": [],
   "source": [
    "s=\"28 September ⣿⣿⣿⣿⣿⣿⣿⣿⠟⠋⠁⠀⠀⠀⠀⠀⠀⠀⠀⠉⠻⣿ ⣿⣿⣿⣿⣿⣿⣿\"\n",
    "print(s.split())"
   ]
  },
  {
   "cell_type": "code",
   "execution_count": null,
   "id": "5a03e15f",
   "metadata": {},
   "outputs": [],
   "source": [
    "data.isna().sum()"
   ]
  },
  {
   "cell_type": "code",
   "execution_count": null,
   "id": "cdb74068",
   "metadata": {},
   "outputs": [],
   "source": []
  }
 ],
 "metadata": {
  "kernelspec": {
   "display_name": "Python 3 (ipykernel)",
   "language": "python",
   "name": "python3"
  },
  "language_info": {
   "codemirror_mode": {
    "name": "ipython",
    "version": 3
   },
   "file_extension": ".py",
   "mimetype": "text/x-python",
   "name": "python",
   "nbconvert_exporter": "python",
   "pygments_lexer": "ipython3",
   "version": "3.11.5"
  }
 },
 "nbformat": 4,
 "nbformat_minor": 5
}
